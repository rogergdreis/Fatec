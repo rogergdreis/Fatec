{
  "nbformat": 4,
  "nbformat_minor": 0,
  "metadata": {
    "colab": {
      "provenance": [],
      "include_colab_link": true
    },
    "kernelspec": {
      "name": "python3",
      "display_name": "Python 3"
    },
    "language_info": {
      "name": "python"
    }
  },
  "cells": [
    {
      "cell_type": "markdown",
      "metadata": {
        "id": "view-in-github",
        "colab_type": "text"
      },
      "source": [
        "<a href=\"https://colab.research.google.com/github/rogergdreis/Fatec/blob/main/Notebooks/Estrutura_de_Dados_Aula_02.ipynb\" target=\"_parent\"><img src=\"https://colab.research.google.com/assets/colab-badge.svg\" alt=\"Open In Colab\"/></a>"
      ]
    },
    {
      "cell_type": "markdown",
      "source": [
        "# **ESTRUTURA DE DADOS - AULA 02**\n",
        "# **Prof. Dr. Humberto A. P. Zanetti**\n",
        "# Fatec Deputado Ary Fossen - Jundiaí\n",
        "\n",
        "\n",
        "---\n",
        "\n",
        "**Conteúdo da aula:**\n",
        "* Funções e recursividade\n",
        "* Dicts (dicionários)\n",
        "\n",
        "\n",
        "\n",
        "\n",
        "\n",
        "---"
      ],
      "metadata": {
        "id": "EerNmLPLXdWB"
      }
    },
    {
      "cell_type": "markdown",
      "source": [
        "# **Revisão sobre funções**\n"
      ],
      "metadata": {
        "id": "HJiBR7EerUwn"
      }
    },
    {
      "cell_type": "markdown",
      "source": [
        "**O que são funções?**\n",
        "\n",
        "Funções são blocos de código reutilizáveis que realizam uma tarefa específica. Elas permitem organizar o código de forma modular, facilitando a manutenção e reutilização.\n",
        "\n",
        "**Definição de Função**\n",
        "\n",
        "Em Python, definimos uma função usando a palavra-chave `def`, seguida pelo nome da função e seus parâmetros opcionais."
      ],
      "metadata": {
        "id": "vA84DXNaraHw"
      }
    },
    {
      "cell_type": "code",
      "source": [
        "def saudacao():\n",
        "    print(\"Olá, bem-vindo!\")\n",
        "\n",
        "saudacao()"
      ],
      "metadata": {
        "id": "g07lqby6rtDG"
      },
      "execution_count": null,
      "outputs": []
    },
    {
      "cell_type": "markdown",
      "source": [
        "**Parâmetros e Argumentos**\n",
        "\n",
        "Podemos passar valores para a função usando parâmetros."
      ],
      "metadata": {
        "id": "__2t5s0brwYO"
      }
    },
    {
      "cell_type": "code",
      "source": [
        "def saudacao_personalizada(nome):\n",
        "    print(f'Olá, {nome}!')\n",
        "\n",
        "saudacao_personalizada('Betina')"
      ],
      "metadata": {
        "id": "jr_WGZIfrxrx"
      },
      "execution_count": null,
      "outputs": []
    },
    {
      "cell_type": "markdown",
      "source": [
        "**Retorno de Valores**\n",
        "\n",
        "As funções podem retornar valores usando a palavra-chave `return`."
      ],
      "metadata": {
        "id": "N734cCpur8Qn"
      }
    },
    {
      "cell_type": "code",
      "source": [
        "def soma(a, b):\n",
        "    return a + b\n",
        "\n",
        "resultado = soma(3, 5)\n",
        "print(resultado)"
      ],
      "metadata": {
        "id": "9opOGqsqsGpm"
      },
      "execution_count": null,
      "outputs": []
    },
    {
      "cell_type": "markdown",
      "source": [
        "**Tipagem de Valor nos Argumentos de Entrada e Retorno**  \n",
        "Python permite indicar os tipos esperados nos parâmetros das funções, embora a linguagem não imponha essa tipagem de forma estrita. Essa mesma tipagem pode ser designada para o retorno da função."
      ],
      "metadata": {
        "id": "yyK8pcF-sMCm"
      }
    },
    {
      "cell_type": "code",
      "source": [
        "def soma(a: int, b: int) -> int:\n",
        "    return a + b\n",
        "\n",
        "resultado = soma(3, 5)\n",
        "print(resultado)"
      ],
      "metadata": {
        "id": "23fzTnj3sTVH"
      },
      "execution_count": null,
      "outputs": []
    },
    {
      "cell_type": "markdown",
      "source": [
        "**Argumentos Opcionais e Valores Padrão**\n",
        "\n",
        "Podemos definir valores padrão para os parâmetros."
      ],
      "metadata": {
        "id": "zvZF6zqushjo"
      }
    },
    {
      "cell_type": "code",
      "source": [
        "def potencia(base, expoente:int = 2):\n",
        "    return base ** expoente\n",
        "\n",
        "print(potencia(3))\n",
        "print(potencia(3, 3))"
      ],
      "metadata": {
        "id": "DxkCmvqwslIS"
      },
      "execution_count": null,
      "outputs": []
    },
    {
      "cell_type": "markdown",
      "source": [
        "**Argumentos Nomeados**\n",
        "\n",
        "Podemos chamar os argumentos pelo nome, tornando o código mais legível."
      ],
      "metadata": {
        "id": "NPYb__HSs075"
      }
    },
    {
      "cell_type": "code",
      "source": [
        "def apresentar(nome: str, idade: int):\n",
        "    print(f\"Nome: {nome}, Idade: {idade}\")\n",
        "\n",
        "apresentar(idade=6, nome=\"Betina\")"
      ],
      "metadata": {
        "id": "nYzeHFhCs2RA"
      },
      "execution_count": null,
      "outputs": []
    },
    {
      "cell_type": "markdown",
      "source": [
        "**Funções com Número Variável de Argumentos**\n",
        "\n",
        "`*args` (**Argumentos Posicionais**)\n",
        "\n",
        "Podemos passar um número indeterminado de argumentos usando `*args`. Esses argumentos são alocados em uma **tupla**."
      ],
      "metadata": {
        "id": "meNPWqyzzRw8"
      }
    },
    {
      "cell_type": "code",
      "source": [
        "def soma_tudo(*numeros: int):\n",
        "    return sum(numeros)\n",
        "\n",
        "print(soma_tudo(1, 2, 3, 4))"
      ],
      "metadata": {
        "id": "5hNnfJU6zstT"
      },
      "execution_count": null,
      "outputs": []
    },
    {
      "cell_type": "markdown",
      "source": [
        "**Funções Lambda**  \n",
        "\n",
        "Uma função lambda é uma função definida em uma única linha, geralmente contendo uma lógica relativamente simples. Como essas funções são frequentemente criadas para servir de argumentos a outras funções, sem que sejam armazenadas em variáveis, também são frequentemente chamadas de “função sem nome” ou “função anônima”.\n",
        "\n",
        "Funções lambda não são um conceito exclusivo de Python. Na realidade, o termo “função lambda” tem sua origem no **cálculo lambda**, um ramo da matemática que lida com funções **recursivas** e que possui grande afinidade com a área de programação em geral – em particular, com a chamada **programação funcional**."
      ],
      "metadata": {
        "id": "TDcEawPN1EvC"
      }
    },
    {
      "cell_type": "code",
      "source": [
        "quadrado = lambda x: x ** 2\n",
        "print(quadrado(5))"
      ],
      "metadata": {
        "id": "6r-0Jqpg1qcW"
      },
      "execution_count": null,
      "outputs": []
    },
    {
      "cell_type": "markdown",
      "source": [
        "**Escopo de Variáveis**\n",
        "\n",
        "Existem dois tipos principais de escopo:\n",
        "+ **Local**: Definido dentro da função.\n",
        "+ **Global**: Definido fora de qualquer função."
      ],
      "metadata": {
        "id": "wcL4cpfC3HK_"
      }
    },
    {
      "cell_type": "code",
      "source": [
        "x = 10  # Variável global\n",
        "\n",
        "def minha_funcao():\n",
        "    x = 5  # Variável local\n",
        "    print(x)\n",
        "\n",
        "minha_funcao()\n",
        "print(x)"
      ],
      "metadata": {
        "id": "gtoqkdo83VgA"
      },
      "execution_count": null,
      "outputs": []
    },
    {
      "cell_type": "markdown",
      "source": [
        "## **Exercício 1**\n",
        "\n",
        "Você foi contratado para criar uma função que calcula o valor final de uma compra após aplicar um desconto. A função deve ser capaz de receber múltiplos valores e permitir a aplicação de um desconto percentual opcional, além de aceitar um número variável de valores de compra.\n",
        "\n",
        "**Requisitos**:\n",
        "1. Crie uma função chamada `calcular_desconto` que recebe os seguintes argumentos:\n",
        "  + `valores` representando os valores de cada item comprado.\n",
        "  + `desconto` (um argumento opcional do tipo `int`, com valor padrão de `0`), representando o desconto percentual a ser aplicado sobre a soma dos valores de compra.\n",
        "2. A função deve retornar o valor total da compra com o desconto aplicado.\n",
        "3. O cálculo do desconto deve ser feito de forma que, se o valor do desconto for 10%, o valor a ser subtraído será 10% da soma dos valores de compra.\n"
      ],
      "metadata": {
        "id": "D0OaMUl4-3l-"
      }
    },
    {
      "cell_type": "markdown",
      "source": [
        "# **Recursividade**\n",
        "\n",
        "A recursividade é um conceito fundamental na ciência da computação e está intimamente relacionada à forma como lidamos com estruturas de dados e algoritmos mais complexos.\n",
        "\n",
        "**Antes de ver Recursividade, como funciona a pilha de execução?**\n",
        "\n",
        "Toda vez que chamamos uma função, esta é colocada em uma **pilha** de execução. Uma pilha tem como característica principal a definição que **a última unidade que entra, será a primeira a sair** (como se fosse uma pilha de pratos!).  \n",
        "Toda vez que uma função é chamada, ela passa à frente das demais e se mantém, até sua execução acabar. Se essa função chamar uma outra, esta será a primeira, e assim por diante. A última chamada terá que ser a primeira a \"sair\" dessa pilha de execução.  \n",
        "Vamos ver um exemplo dessa pilha, usando o recurso visual do [Python Tutor](https://pythontutor.com/).\n"
      ],
      "metadata": {
        "id": "TBPOjC676yfe"
      }
    },
    {
      "cell_type": "code",
      "source": [
        "def saudacao2(nome):\n",
        "    print('Como você está, ', nome, '?')\n",
        "    print('Preparando pra dizer tchau...')\n",
        "    tchau()\n",
        "\n",
        "def tchau():\n",
        "    print('Tchau!')\n",
        "\n",
        "def saudacao(nome):\n",
        "    print('Olá, ', nome, '!')\n",
        "    saudacao2(nome)\n",
        "\n",
        "saudacao('Zé Ruela')"
      ],
      "metadata": {
        "id": "BeuDAa51-C6V"
      },
      "execution_count": null,
      "outputs": []
    },
    {
      "cell_type": "markdown",
      "source": [
        "## **Introdução à Recursividade**\n",
        "\n",
        "Recursividade ocorre quando uma função chama a si mesma diretamente ou indiretamente. Ela é uma técnica poderosa, especialmente útil para resolver problemas que podem ser quebrados em subproblemas menores de estrutura semelhante.\n",
        "\n",
        "**Exemplo de Recursividade Simples:**\n",
        "\n",
        "Vamos começar com um exemplo básico de recursão: o cálculo do fatorial de um número.\n",
        "\n",
        "O fatorial de um número 𝑛, denotado como 𝑛!, é o produto de todos os inteiros de 1 até 𝑛. A definição de fatorial é naturalmente recursiva:\n",
        "\n",
        "* 𝑛! = 𝑛 × (𝑛 − 1)!\n",
        "* 0! = 1 (caso base)\n",
        "\n",
        "**Implementação em Python:**"
      ],
      "metadata": {
        "id": "mGofdLUc7XHu"
      }
    },
    {
      "cell_type": "code",
      "source": [
        "def fatorial(n):\n",
        "  if n == 0:\n",
        "    return 1  # Caso base\n",
        "  else:\n",
        "    return n * fatorial(n - 1)  # Chamada recursiva\n",
        "\n",
        "print(fatorial(5))"
      ],
      "metadata": {
        "id": "NquGR2gB6_5m"
      },
      "execution_count": null,
      "outputs": []
    },
    {
      "cell_type": "markdown",
      "source": [
        "1. **Caso Base**: A condição que interrompe as chamadas recursivas. Sem um caso base, a função recursiva chamaria a si mesma indefinidamente, causando um erro de \"recursão infinita\".\n",
        "    * No exemplo do fatorial, o caso base é 𝑛 = 0, onde a função retorna 1.\n",
        "\n",
        "2. **Chamada Recursiva**: A chamada da função dentro de si mesma, que resolve uma versão menor do problema.\n",
        "  * No fatorial, a chamada recursiva é **fatorial(n - 1)**.\n",
        "\n",
        "3. **Dividir e Conquistar**: A recursividade funciona bem em problemas que podem ser decompostos em subproblemas menores de estrutura similar, como as árvores."
      ],
      "metadata": {
        "id": "OE29da-07IEL"
      }
    },
    {
      "cell_type": "markdown",
      "source": [
        "**Mais um exemplo**\n",
        "\n",
        "Como seria criar uma função recursiva cujo o objetivo é mostrar uma **contagem regressiva**?  \n",
        "Primeiro devemos ver o **caso base**:  Se `i` for menor que 0, retorne 0.  \n",
        "Depois a **caso recursivo**: Sempre chamar a `contagem(i - 1)`, decrementando a contagem!\n"
      ],
      "metadata": {
        "id": "_DSDSk-5CkUR"
      }
    },
    {
      "cell_type": "code",
      "source": [
        "def contagem(i):\n",
        "  # caso base\n",
        "  if i <= 0:\n",
        "    return 0\n",
        "  # caso recursivo\n",
        "  else:\n",
        "    print(i)\n",
        "    return contagem(i-1)\n",
        "\n",
        "contagem(5)"
      ],
      "metadata": {
        "id": "6EP0yHqoDF7f"
      },
      "execution_count": null,
      "outputs": []
    },
    {
      "cell_type": "markdown",
      "source": [
        "## **Exercício 2**\n",
        "\n",
        "Implemente uma função recursiva que calcule a soma de todos os elementos de uma lista de números inteiros.\n",
        "\n",
        "**Regras:**\n",
        "* A função deve receber uma lista de números inteiros como entrada e retornar a\n",
        "soma de seus elementos.\n",
        "* Exemplo: Para a lista [1, 2, 3, 4], a função deve retornar 1+2+3+4=10.\n",
        "\n",
        "**Dica:**\n",
        "* Caso base: se a lista estiver vazia, a soma é 0. Dica: `if not lista`\n",
        "* Use recursividade para somar o primeiro elemento da lista com a soma dos elementos restantes."
      ],
      "metadata": {
        "id": "UrM1aOMdBwU3"
      }
    },
    {
      "cell_type": "markdown",
      "source": [
        "\n",
        "# ***Dict*** **(Dicionário)**\n",
        "\n",
        "Dicionários em Python (dict)\n",
        "Um dicionário em Python, ou dict, é uma coleção de pares chave-valor. Cada chave é única e está associada a um valor. Os dicionários são úteis para armazenar dados que precisam ser rapidamente acessados por meio de uma chave, como registros, configurações, ou contagens.\n",
        "\n",
        "**Características dos Dicionários:**\n",
        "* Chaves únicas: Cada chave em um dicionário deve ser única. Se você atribuir um novo valor a uma chave já existente, o valor antigo será sobrescrito.\n",
        "* Mutáveis: Você pode adicionar, modificar ou remover pares chave-valor.\n",
        "* Desordenados (até Python 3.6): A partir do Python 3.7, a ordem dos itens inseridos no dicionário é mantida.\n",
        "* Acesso rápido: Os valores podem ser acessados rapidamente usando as chaves."
      ],
      "metadata": {
        "id": "_WGLAddc4AHd"
      }
    },
    {
      "cell_type": "code",
      "source": [
        "meu_dict = {}\n",
        "meu_dict['nome'] = 'Alice'\n",
        "meu_dict['idade'] = 25\n",
        "meu_dict['cidade'] = 'São Paulo'\n",
        "print(meu_dict)"
      ],
      "metadata": {
        "id": "NDd8OVgs4hcB"
      },
      "execution_count": null,
      "outputs": []
    },
    {
      "cell_type": "markdown",
      "source": [
        "**Criando um dicionário com valores iniciais:**"
      ],
      "metadata": {
        "id": "f7gFtWk-4iw9"
      }
    },
    {
      "cell_type": "code",
      "source": [
        "meu_dict = {'nome': 'Betina', 'idade': 6, 'cidade': 'Itatiba'}\n",
        "print(meu_dict['nome'])\n",
        "print(meu_dict['idade'])"
      ],
      "metadata": {
        "id": "lbFu-oEo5Ku_"
      },
      "execution_count": null,
      "outputs": []
    },
    {
      "cell_type": "markdown",
      "source": [
        "**Usando o método get() para acessar valores:**\n",
        "\n",
        "O método get() permite acessar valores em um dicionário sem gerar um erro se a chave não existir."
      ],
      "metadata": {
        "id": "z_veuCeA5kKV"
      }
    },
    {
      "cell_type": "code",
      "source": [
        "meu_dict = {'nome': 'Betina', 'idade': 6}\n",
        "print(meu_dict.get('nome'))\n",
        "print(meu_dict.get('profissao', 'Desconhecido'))"
      ],
      "metadata": {
        "id": "gad1HzbK5pfl"
      },
      "execution_count": null,
      "outputs": []
    },
    {
      "cell_type": "markdown",
      "source": [
        "**Modificando Dicionários:**\n",
        "Adicionando ou atualizando um par chave-valor:"
      ],
      "metadata": {
        "id": "9vauGEin5q6t"
      }
    },
    {
      "cell_type": "code",
      "source": [
        "meu_dict = {'nome': 'Betina', 'idade': 6}\n",
        "meu_dict['idade'] = 7\n",
        "meu_dict['profissao'] = 'Estudante'\n",
        "print(meu_dict)"
      ],
      "metadata": {
        "id": "EBrzyacv5t_z"
      },
      "execution_count": null,
      "outputs": []
    },
    {
      "cell_type": "markdown",
      "source": [
        "**Removendo pares chave-valor:**\n",
        "\n",
        "Você pode remover itens usando del, pop() ou popitem()."
      ],
      "metadata": {
        "id": "1gWYfUhf5wph"
      }
    },
    {
      "cell_type": "code",
      "source": [
        "meu_dict = {'nome': 'Betina', 'idade': 6, 'cidade': 'São Paulo'}\n",
        "\n",
        "del meu_dict['cidade']\n",
        "print(meu_dict)\n",
        "\n",
        "idade = meu_dict.pop('idade')\n",
        "print(idade)\n",
        "print(meu_dict)\n",
        "\n",
        "meu_dict['pais'] = 'Brasil'\n",
        "item_removido = meu_dict.popitem()\n",
        "print(item_removido)\n",
        "print(meu_dict)"
      ],
      "metadata": {
        "id": "G1I5kSX35yPh",
        "colab": {
          "base_uri": "https://localhost:8080/"
        },
        "outputId": "1f5e807a-f24f-405c-d4b1-e1ba331b75cd"
      },
      "execution_count": null,
      "outputs": [
        {
          "output_type": "stream",
          "name": "stdout",
          "text": [
            "{'nome': 'Betina', 'idade': 6}\n",
            "6\n",
            "{'nome': 'Betina'}\n",
            "('pais', 'Brasil')\n",
            "{'nome': 'Betina'}\n"
          ]
        }
      ]
    },
    {
      "cell_type": "markdown",
      "source": [
        "**Limpando todos os itens de um dicionário:**"
      ],
      "metadata": {
        "id": "ZqRQx6x850R5"
      }
    },
    {
      "cell_type": "code",
      "source": [
        "meu_dict = {'nome': 'Betina', 'idade': 6}\n",
        "meu_dict.clear()\n",
        "print(meu_dict)"
      ],
      "metadata": {
        "id": "UYEoT86u53Gt"
      },
      "execution_count": null,
      "outputs": []
    },
    {
      "cell_type": "markdown",
      "source": [
        "**Iterando sobre Dicionários:**\n",
        "Iterando sobre as chaves de um dicionário:"
      ],
      "metadata": {
        "id": "oOPqUdun54vK"
      }
    },
    {
      "cell_type": "code",
      "source": [
        "meu_dict = {'nome': 'Betina', 'idade': 6, 'cidade': 'Itatiba'}\n",
        "for chave in meu_dict:\n",
        "    print(chave)"
      ],
      "metadata": {
        "id": "qq9L6FK357TD"
      },
      "execution_count": null,
      "outputs": []
    },
    {
      "cell_type": "markdown",
      "source": [
        "**Iterando sobre os valores de um dicionário:**"
      ],
      "metadata": {
        "id": "-vZFv3ZO6KEV"
      }
    },
    {
      "cell_type": "code",
      "source": [
        "meu_dict = {'nome': 'Betina', 'idade': 6, 'cidade': 'São Paulo'}\n",
        "for valor in meu_dict.values():\n",
        "    print(valor)"
      ],
      "metadata": {
        "id": "c8KeumWu6Lvh"
      },
      "execution_count": null,
      "outputs": []
    },
    {
      "cell_type": "markdown",
      "source": [
        "**Iterando sobre as chaves e valores de um dicionário:**"
      ],
      "metadata": {
        "id": "R2jW0Ecc6VSJ"
      }
    },
    {
      "cell_type": "code",
      "source": [
        "meu_dict = {'nome': 'Betina', 'idade': 6, 'cidade': 'São Paulo'}\n",
        "for chave, valor in meu_dict.items():\n",
        "    print(f'Chave: {chave}, Valor: {valor}')"
      ],
      "metadata": {
        "id": "J2H6WSwj6WWC"
      },
      "execution_count": null,
      "outputs": []
    },
    {
      "cell_type": "markdown",
      "source": [
        "**Mesclando dois dicionários:**\n",
        "\n",
        "A partir do Python 3.9, você pode usar o operador | para mesclar dicionários."
      ],
      "metadata": {
        "id": "2RNLUWiP6aYi"
      }
    },
    {
      "cell_type": "code",
      "source": [
        "dict1 = {'nome': 'Betina', 'idade': 6}\n",
        "dict2 = {'cidade': 'Itatiba', 'pais': 'Brasil'}\n",
        "dict_mesclado = dict1 | dict2\n",
        "print(dict_mesclado)"
      ],
      "metadata": {
        "id": "PkAlqK-06bqB"
      },
      "execution_count": null,
      "outputs": []
    },
    {
      "cell_type": "markdown",
      "source": [
        "**Exemplo Prático:**\n",
        "Imagine que você tem um registro de estudantes com suas notas e quer calcular a média das notas de cada aluno:"
      ],
      "metadata": {
        "id": "Ov9WiPtL6jV5"
      }
    },
    {
      "cell_type": "code",
      "source": [
        "notas = {\n",
        "    'Betina': [8, 7.5, 9],\n",
        "    'Bruno': [6, 7, 8],\n",
        "    'Carla': [9, 9.5, 10]\n",
        "}\n",
        "\n",
        "medias = {}\n",
        "for aluno, notas_aluno in notas.items():\n",
        "    media = sum(notas_aluno) / len(notas_aluno)\n",
        "    medias[aluno] = media\n",
        "\n",
        "print(medias)"
      ],
      "metadata": {
        "id": "rzzzFr6w6lKN"
      },
      "execution_count": null,
      "outputs": []
    },
    {
      "cell_type": "markdown",
      "source": [
        "Os dicionários são uma das estruturas de dados mais flexíveis e úteis em Python. Eles permitem um acesso rápido e eficiente aos dados através de chaves e são ideais para situações onde você precisa armazenar e manipular associações entre valores (como registros, contagens e configurações). A capacidade de modificar, adicionar e remover pares chave-valor torna os dicionários uma ferramenta essencial para a programação em Python.  \n",
        "Um dos formatos de dados mais utilizados atualmente é um representção fiel à estrutura de um dicionário é o formato JSON!"
      ],
      "metadata": {
        "id": "4_ME_hUd6ok2"
      }
    },
    {
      "cell_type": "markdown",
      "source": [
        "## **Exemplos com API**\n",
        "\n",
        "**Exemplo 1**  \n",
        "\n",
        "Você recebeu um trabalho em que é necessário pegar dados em uma base de CEP, não só para validar, mas também para utilizar esses dados em outras aplicações e armazenamento em Banco de Dados.  \n",
        "É sábido que esses dados estão armazenados em arquivos JSON. Portanto, temos que **\"consumir\"** esses dados e manipular em um formato equivalente em Python, que seria um ***dict***.  \n",
        "\n",
        "Essa base de CEP é disponibilizada de forma aberta pela Governo, através da Brasil API."
      ],
      "metadata": {
        "id": "haZcdMUXEv8Q"
      }
    },
    {
      "cell_type": "code",
      "source": [
        "import requests\n",
        "\n",
        "def buscar_cep(cep):\n",
        "    url = f'https://brasilapi.com.br/api/cep/v1/{cep}'\n",
        "    resposta = requests.get(url)\n",
        "\n",
        "    if resposta.status_code == 200:\n",
        "        dados = resposta.json()\n",
        "        endereco = {\n",
        "            'CEP': dados.get('cep'),\n",
        "            'Rua': dados.get('street'),\n",
        "            'Bairro': dados.get('neighborhood'),\n",
        "            'Cidade': dados.get('city'),\n",
        "            'Estado': dados.get('state')\n",
        "        }\n",
        "        return endereco\n",
        "    else:\n",
        "        return {'Erro': 'CEP inválido ou não encontrado'}\n",
        "\n"
      ],
      "metadata": {
        "id": "erIFsUK7FULx"
      },
      "execution_count": null,
      "outputs": []
    },
    {
      "cell_type": "markdown",
      "source": [
        "Vamos utilizar essa função:"
      ],
      "metadata": {
        "id": "t1lSZV8YsWCa"
      }
    },
    {
      "cell_type": "code",
      "source": [
        "cep_exemplo = \"13201-160\"\n",
        "resultado = buscar_cep(cep_exemplo)\n",
        "print(resultado)"
      ],
      "metadata": {
        "id": "Gw-zunF_sZbh",
        "colab": {
          "base_uri": "https://localhost:8080/"
        },
        "outputId": "1a3ef149-1244-4a1a-f867-9df0788f8eab"
      },
      "execution_count": null,
      "outputs": [
        {
          "output_type": "stream",
          "name": "stdout",
          "text": [
            "{'CEP': '13201160', 'Rua': 'Avenida União dos Ferroviários', 'Bairro': 'Ponte de Campinas', 'Cidade': 'Jundiaí', 'Estado': 'SP'}\n"
          ]
        }
      ]
    },
    {
      "cell_type": "markdown",
      "source": [
        "Vemos que nosso arquivo JSON fica formatado diretamente em dicionário:\n",
        "\n",
        "```python\n",
        "{\n",
        "  'CEP': '13201160',\n",
        "  'Rua': 'Avenida União dos Ferroviários',\n",
        "  'Bairro': 'Ponte de Campinas',\n",
        "  'Cidade': 'Jundiaí',\n",
        "  'Estado': 'SP'\n",
        "}\n",
        "```"
      ],
      "metadata": {
        "id": "LfxygMDjs-rT"
      }
    },
    {
      "cell_type": "markdown",
      "source": [
        "**Exemplo 2**\n",
        "\n",
        "Imagine que temos que pegar todo início do ano os feriados nacionais para oerganizar uma agenda de atendimentos.\n",
        "Para isso vamos usar a mesma API anterior, mas agora para datas de feriados.  \n",
        "Nesse exemplo vamos explorar soluções mais \"rebuscadas\"!"
      ],
      "metadata": {
        "id": "no8Dj7ulyJCm"
      }
    },
    {
      "cell_type": "code",
      "source": [
        "import requests\n",
        "\n",
        "def obter_feriados(ano):\n",
        "    url = f'https://brasilapi.com.br/api/feriados/v1/{ano}'\n",
        "    resposta = requests.get(url)\n",
        "\n",
        "    #return com condicional\n",
        "    return resposta.json() if resposta.status_code == 200 else {'Erro': 'Falha na requisição'}\n",
        "\n",
        "def exibir_feriados(feriados):\n",
        "    # 'isinstance' verifica se os dados formam um dict\n",
        "    if isinstance(feriados, dict) and 'Erro' in feriados:\n",
        "        print(feriados['Erro'])\n",
        "        return\n",
        "\n",
        "    print(f'\\n---Feriados Nacionais de {feriados[0][\"date\"][:4]}---\\n')\n",
        "\n",
        "    for feriado in feriados:\n",
        "        print(f'Data: {feriado[\"date\"]}')\n",
        "        print(f'Nome: {feriado[\"name\"]}')\n",
        "        print(f'Tipo: {feriado[\"type\"]}')\n",
        "        print('-' * 30)\n",
        "\n",
        "ano = 2025\n",
        "dados = obter_feriados(ano)\n",
        "exibir_feriados(dados)\n",
        "\n"
      ],
      "metadata": {
        "id": "saWti-YP4CY0"
      },
      "execution_count": null,
      "outputs": []
    }
  ]
}
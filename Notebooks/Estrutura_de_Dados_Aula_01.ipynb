{
  "nbformat": 4,
  "nbformat_minor": 0,
  "metadata": {
    "colab": {
      "provenance": [],
      "collapsed_sections": [
        "o9uFuG0LKaUT",
        "_g8kRcAS5wt3",
        "fP8e9z-30NiB"
      ],
      "include_colab_link": true
    },
    "kernelspec": {
      "name": "python3",
      "display_name": "Python 3"
    },
    "language_info": {
      "name": "python"
    }
  },
  "cells": [
    {
      "cell_type": "markdown",
      "metadata": {
        "id": "view-in-github",
        "colab_type": "text"
      },
      "source": [
        "<a href=\"https://colab.research.google.com/github/rogergdreis/Fatec/blob/main/Notebooks/Estrutura_de_Dados_Aula_01.ipynb\" target=\"_parent\"><img src=\"https://colab.research.google.com/assets/colab-badge.svg\" alt=\"Open In Colab\"/></a>"
      ]
    },
    {
      "cell_type": "markdown",
      "source": [
        "# **ESTRUTURA DE DADOS - AULA 01**\n",
        "# **Prof. Dr. Humberto A. P. Zanetti**\n",
        "# Fatec Deputado Ary Fossen - Jundiaí\n",
        "\n",
        "\n",
        "---\n",
        "\n",
        "**Conteúdo da aula:**\n",
        "\n",
        "* O que são Estruturas de Dados?\n",
        "* Listas (revisão e compreensão de listas)\n",
        "* Tuplas\n",
        "* Sets (conjuntos)\n",
        "\n",
        "\n",
        "\n",
        "\n",
        "\n",
        "---\n",
        "\n",
        "\n",
        "\n"
      ],
      "metadata": {
        "id": "uAWQ78iaPon6"
      }
    },
    {
      "cell_type": "markdown",
      "source": [
        "## **O que são Estuturas de Dados?**\n",
        "Estrtura de Dados (ED) é um dos principais componentes de no desenvolvimento de qualquer sistema de software (mesmo que não seja explícito). Qual ação que tenha que manipular ou armazenar dados em um programa, implica de alguma maneira, na utilização de ED. Os dados utilizados pelo pelo algoritmo para resolver o problema precisam ser armazenados e organizados de maneira eficiente na memória. Isso impacta diretamente no que chamamos de **desempenho** do sistema, pois o acesso e recuperação de dados podem gera um grande \"gargalo\" para o sistema, caso sejam mal implementados.\n",
        "\n",
        "**Por que aprender ED em Ciência de Dados?**\n",
        "\n",
        "Aprender e saber aplicar estruturas de dados é um conehcimento fundamental para qualquer um que precise implementar alguma Algoritmo, independente de qual sua aplicação. Na Ciência de Dados somos inundados com ações recorrentes ao uso de Algoritmos (muitas vezes, mais do que um!).\n",
        "\n",
        "Vamos ver uma breve explanação sobre ED no canal Código Fonte TV: https://youtu.be/EfF1M7myAyY?si=MvndDDokYbgItR-R\n",
        "\n",
        "\n",
        "---\n",
        "\n",
        "\n"
      ],
      "metadata": {
        "id": "klkVT-TTSazK"
      }
    },
    {
      "cell_type": "markdown",
      "source": [
        "# **Listas**\n",
        "\n",
        "Listas em python são usadas para armazenar vários itens na mesma variável (ou referência de variável). A lista é mutável, pode ser heterogênea (vários tipos de dados) e aceita valores duplicados.\n",
        "Nós considerados likstas como sendo uma estrutura \"ordenada\" e \"dinâmica\". Ordenada devido ao uso de índices. Dinâmica é devido sua flexibilidade na adição, exclusão e demais operações com os itens que a compõe.\n",
        "Ainda sobre dinaminismo, vale a pena recordar algumas utilizações de acesso a índices:"
      ],
      "metadata": {
        "id": "o9uFuG0LKaUT"
      }
    },
    {
      "cell_type": "code",
      "execution_count": null,
      "metadata": {
        "colab": {
          "base_uri": "https://localhost:8080/"
        },
        "id": "n63jlcL_PQXA",
        "outputId": "6fd12bde-9d28-4d19-bc2d-8cd8d68d5c29"
      },
      "outputs": [
        {
          "output_type": "stream",
          "name": "stdout",
          "text": [
            "['fatec', 1.8, 42, True]\n",
            "True\n",
            "[1.8, 42]\n"
          ]
        }
      ],
      "source": [
        "lista = ['fatec', 1.8, 42, True]\n",
        "print(lista) #imprimindo a lista toda\n",
        "print(lista[2]) #acessando um determinado índice\n",
        "print(lista[-1]) #acessando índices \"negativos\" (lembrando que iniciamos com -1)\n",
        "print(lista[1:3]) #fazendo slice"
      ]
    },
    {
      "cell_type": "code",
      "source": [
        "l1 =[1,2,3,4,5,6]\n",
        "print(l1[1:4])"
      ],
      "metadata": {
        "id": "WCdEWQ4w1wme",
        "outputId": "c6bd2154-804d-413a-c4d5-6de8a4b6ef98",
        "colab": {
          "base_uri": "https://localhost:8080/"
        }
      },
      "execution_count": 1,
      "outputs": [
        {
          "output_type": "stream",
          "name": "stdout",
          "text": [
            "[2, 3, 4]\n"
          ]
        }
      ]
    },
    {
      "cell_type": "markdown",
      "source": [
        "Também é importante recordar que há ações de operações e funções atribuídas em listas."
      ],
      "metadata": {
        "id": "e6zE-I-QYnOx"
      }
    },
    {
      "cell_type": "code",
      "source": [
        "lista =[1,2,3,4,5,6]\n",
        "print(lista * 2)\n",
        "print(lista + ['novo item'])\n",
        "print('fatec' in lista)\n",
        "print(len(lista))"
      ],
      "metadata": {
        "id": "s35MS8PsYzSu",
        "colab": {
          "base_uri": "https://localhost:8080/"
        },
        "outputId": "6d6e2864-0a8d-40a3-b1a4-0d2dbfc3c166"
      },
      "execution_count": 3,
      "outputs": [
        {
          "output_type": "stream",
          "name": "stdout",
          "text": [
            "[1, 2, 3, 4, 5, 6, 1, 2, 3, 4, 5, 6]\n",
            "[1, 2, 3, 4, 5, 6, 'novo item']\n",
            "False\n",
            "6\n"
          ]
        }
      ]
    },
    {
      "cell_type": "markdown",
      "source": [
        "Mas há algumas funções que dependem do **contexto dos dados**. Por exemplo, a função *`max()`* funcionaria na lista de exemplo?"
      ],
      "metadata": {
        "id": "FZ7T1TPzMEOL"
      }
    },
    {
      "cell_type": "markdown",
      "source": [
        "Em Python também é permitido que faça operações entre listas:\n",
        "\n",
        "**Adição e remoção de elementos**"
      ],
      "metadata": {
        "id": "VvUYXla8bBg0"
      }
    },
    {
      "cell_type": "code",
      "source": [
        "# Lista de números inteiros\n",
        "numeros = [1, 2, 3, 4, 5]\n",
        "\n",
        "# Lista de strings\n",
        "frutas = ['maçã', 'banana', 'cereja']\n",
        "\n",
        "numeros.append(6)  # [1, 2, 3, 4, 5, 6]\n",
        "frutas.extend(['laranja', 'uva'])  # ['maçã', 'banana', 'cereja', 'laranja', 'uva']\n",
        "numeros.insert(0, 0)  # [0, 1, 2, 3, 4, 5, 6]\n",
        "\n",
        "numeros.remove(2)  # [0, 1, 3, 4, 5, 6]\n",
        "fruta = frutas.pop(1)  # 'banana', frutas = ['maçã', 'cereja', 'laranja', 'uva']\n",
        "del numeros[0]  # [1, 3, 4, 5, 6]"
      ],
      "metadata": {
        "id": "yDMDPzE_36jz"
      },
      "execution_count": null,
      "outputs": []
    },
    {
      "cell_type": "markdown",
      "source": [
        "**Ordenação e busca**"
      ],
      "metadata": {
        "id": "3vRi3Nvx43Un"
      }
    },
    {
      "cell_type": "code",
      "source": [
        "numeros.sort()  # [1, 3, 4, 5, 6]\n",
        "frutas_ordenadas = sorted(frutas)  # ['cereja', 'laranja', 'maçã', 'uva']\n",
        "indice_cereja = frutas.index('cereja')  # 1\n",
        "contagem_maca = frutas.count('maçã')  # 1"
      ],
      "metadata": {
        "id": "lgBqIsSd5Xzv"
      },
      "execution_count": null,
      "outputs": []
    },
    {
      "cell_type": "markdown",
      "source": [
        "**Manipulando índices**\n",
        "\n",
        "Uma das práticas mais comuns ao trabalhar com esses conjuntos de dados é utilizar os **índices** para alguma ação específica. Há uma maneira, não muito *pythonica* de fazer isso:"
      ],
      "metadata": {
        "id": "6SgHoL70lN0Q"
      }
    },
    {
      "cell_type": "code",
      "source": [
        "numeros = [10, 20, 30, 40, 50]\n",
        "for i in range(len(numeros)):\n",
        "  print(f'Valor no índice {i} é {numeros[i]}')\n"
      ],
      "metadata": {
        "id": "oI2AlrfnmtUp"
      },
      "execution_count": null,
      "outputs": []
    },
    {
      "cell_type": "markdown",
      "source": [
        "Ou até mesmo:"
      ],
      "metadata": {
        "id": "mzzJk0zNnqa_"
      }
    },
    {
      "cell_type": "code",
      "source": [
        "numeros = [10, 20, 30, 40, 50]\n",
        "i = 0\n",
        "for numero in numeros:\n",
        "  print(f'Valor no índice {i} é {numero}')\n",
        "  i += 1\n"
      ],
      "metadata": {
        "id": "B7ngR6YDnsVe"
      },
      "execution_count": null,
      "outputs": []
    },
    {
      "cell_type": "markdown",
      "source": [
        "A maneira mais correta seria recorrer de fato aos índices associados à estrutura, para ter a certeza de seu valor de indexação.  \n",
        "Para isso, em Python, temos a **enumeração** (*enumerate*), que trata-se de enumerar os elementso de um conjunto, ou seja, revelar de fato quais são os índices que compõe a estrutura.\n"
      ],
      "metadata": {
        "id": "HnG4v-0yoAXs"
      }
    },
    {
      "cell_type": "code",
      "source": [
        "numeros = [10, 20, 30, 40, 50]\n",
        "for i,numero in enumerate(numeros):\n",
        "  print(f'Valor no índice {i} é {numero}')"
      ],
      "metadata": {
        "id": "D7HrbpwWon1Q"
      },
      "execution_count": null,
      "outputs": []
    },
    {
      "cell_type": "markdown",
      "source": [
        "É possível notar que o *enumerate* nos devolve um **par de valores**. No caso `i` recebe o índice e o `numero` recebe o valor do elemento. Mas se houver o caso em que apenas gostaria de usar **somente** os índices?  \n",
        "Podemos usar o **sublinhado** (`_`) ou *underscore*,  em vez de um nome de variável. O sublinhado indica que será um valor descartado na atribuição do par de valores."
      ],
      "metadata": {
        "id": "C23nZFLQp5HH"
      }
    },
    {
      "cell_type": "code",
      "source": [
        "numeros = [10, 20, 30, 40, 50]\n",
        "for i,_ in enumerate(numeros):\n",
        "  print(f'Valor no índice {i} é {numeros[i]}')"
      ],
      "metadata": {
        "id": "l-Pr4c-brZM1"
      },
      "execution_count": null,
      "outputs": []
    },
    {
      "cell_type": "markdown",
      "source": [
        "# **Compreensão de listas (*list comprehension*)**\n",
        "\n",
        "Compreensão de listas é uma ferramenta poderosa e concisa em Python para criar novas listas. Ela permite aplicar operações e uso de estruturas de controle sobre elementos iteráveis de forma elegante e eficiente. **EXEMPLOS**:\n",
        "\n",
        "**Criar uma lista de números elevados ao quadrado:** elevar ao quadrado cada número de 0 a 9 e armazenar os resultados em uma nova lista."
      ],
      "metadata": {
        "id": "_g8kRcAS5wt3"
      }
    },
    {
      "cell_type": "code",
      "source": [
        "quadrados = [x**2 for x in range(10)]\n",
        "print(quadrados)"
      ],
      "metadata": {
        "id": "_zDivH4i6wjP"
      },
      "execution_count": null,
      "outputs": []
    },
    {
      "cell_type": "markdown",
      "source": [
        "**Filtrar números pares:** Selecionar apenas números pares de uma sequência de 0 a 19."
      ],
      "metadata": {
        "id": "Llqib-be5wlL"
      }
    },
    {
      "cell_type": "code",
      "source": [
        "pares = [x for x in range(20) if x % 2 == 0]\n",
        "print(pares)"
      ],
      "metadata": {
        "id": "zeGSW3Qo7B4f"
      },
      "execution_count": null,
      "outputs": []
    },
    {
      "cell_type": "markdown",
      "source": [
        "**Aplicar uma operação condicional:** Criar uma lista onde números menores que 5 são elevados ao quadrado e os demais são mantidos iguais."
      ],
      "metadata": {
        "id": "9qgR3apj7BQn"
      }
    },
    {
      "cell_type": "code",
      "source": [
        "resultado = [x**2 if x < 5 else x for x in range(10)]\n",
        "print(resultado)"
      ],
      "metadata": {
        "id": "uf89_rhl7V6_"
      },
      "execution_count": null,
      "outputs": []
    },
    {
      "cell_type": "markdown",
      "source": [
        "**Transformar strings em uma lista de seus comprimentos:** Dada uma lista de palavras, criar uma lista contendo o comprimento de cada palavra."
      ],
      "metadata": {
        "id": "U2Sb0MNvBEYF"
      }
    },
    {
      "cell_type": "code",
      "source": [
        "palavras = ['maçã', 'banana', 'cereja']\n",
        "comprimentos = [len(palavra) for palavra in palavras]\n",
        "print(comprimentos)"
      ],
      "metadata": {
        "id": "mGf8X-KlBRVD"
      },
      "execution_count": null,
      "outputs": []
    },
    {
      "cell_type": "markdown",
      "source": [
        "**Filtrar e transformar simultaneamente:** De uma lista de números, criar uma lista contendo apenas os quadrados dos números ímpares."
      ],
      "metadata": {
        "id": "gySW71NZBSDf"
      }
    },
    {
      "cell_type": "code",
      "source": [
        "quadrados_impares = [x**2 for x in range(10) if x % 2 != 0]\n",
        "print(quadrados_impares)"
      ],
      "metadata": {
        "id": "U1mQOgIaBvc0"
      },
      "execution_count": null,
      "outputs": []
    },
    {
      "cell_type": "markdown",
      "source": [
        "**Trabalhar com listas aninhadas:** Achatar (*flatten*) uma lista de listas, criando uma lista plana com todos os elementos."
      ],
      "metadata": {
        "id": "t43ypXiEBweQ"
      }
    },
    {
      "cell_type": "code",
      "source": [
        "listas_aninhadas = [[1, 2, 3], [4, 5, 6], [7, 8, 9]]\n",
        "lista_planada = [num for sublista in listas_aninhadas for num in sublista]\n",
        "print(lista_planada)"
      ],
      "metadata": {
        "id": "pDBPqlg7B7DI"
      },
      "execution_count": null,
      "outputs": []
    },
    {
      "cell_type": "markdown",
      "source": [
        "**Converter todos os caracteres de uma string para maiúsculas:** Dada uma string, criar uma lista com cada caractere convertido para maiúscula."
      ],
      "metadata": {
        "id": "mFSYKKCfB_JE"
      }
    },
    {
      "cell_type": "code",
      "source": [
        "frase = \"ola mundo\"\n",
        "maiusculas = [char.upper() for char in frase]\n",
        "print(maiusculas)"
      ],
      "metadata": {
        "id": "lw5Q82wRCBuj"
      },
      "execution_count": null,
      "outputs": []
    },
    {
      "cell_type": "markdown",
      "source": [
        "**Usar funções em compreensão de listas:** Aplicar uma função a cada elemento de uma lista."
      ],
      "metadata": {
        "id": "AI6gWSenCGq4"
      }
    },
    {
      "cell_type": "code",
      "source": [
        "def dobro(x):\n",
        "    return x * 2\n",
        "\n",
        "numeros = [1, 2, 3, 4, 5]\n",
        "dobrados = [dobro(x) for x in numeros]\n",
        "print(dobrados)"
      ],
      "metadata": {
        "id": "m8XvSLfPCLjP"
      },
      "execution_count": null,
      "outputs": []
    },
    {
      "cell_type": "markdown",
      "source": [
        "**Compreensão de listas com múltiplos iteráveis:** Combinar elementos de duas listas, gerando todos os pares possíveis."
      ],
      "metadata": {
        "id": "_36leuhICNIP"
      }
    },
    {
      "cell_type": "code",
      "source": [
        "letras = ['a', 'b', 'c']\n",
        "numeros = [1, 2, 3]\n",
        "combinacoes = [(letra, numero) for letra in letras for numero in numeros]\n",
        "print(combinacoes)"
      ],
      "metadata": {
        "id": "5GE_F8lGCRWg"
      },
      "execution_count": null,
      "outputs": []
    },
    {
      "cell_type": "markdown",
      "source": [
        "## **EXERCÍCIOS**\n",
        "\n",
        "\n",
        "\n",
        "1.   Dada uma lista de números inteiros, implemente a compreensão que cria uma nova lista contendo os cubos dos números ímpares da lista original.\n",
        "2.   Dadas duas listas de números inteiros **a** e **b**, implemente uma fcompreensão que crie uma lista contendo a soma de todos os pares possíveis formados por um elemento de **a** e um elemento de **b**.\n",
        "\n"
      ],
      "metadata": {
        "id": "F2nVlCv4CVkB"
      }
    },
    {
      "cell_type": "markdown",
      "source": [
        "\n",
        "\n",
        "---\n",
        "\n",
        "\n",
        "# **Tuplas**\n",
        "\n",
        "As tuplas são um tipo de estrutura de dados em Python que, assim como as listas, podem armazenar múltiplos itens. No entanto, diferentemente das listas, as tuplas são imutáveis, ou seja, uma vez criadas, seus elementos não podem ser alterados. As tuplas são definidas usando parênteses () e são frequentemente utilizadas quando você quer garantir que os dados não serão modificados\n",
        "Características das Tuplas:\n",
        "* Imutáveis: Uma vez criada, você não pode adicionar, remover ou modificar os\n",
        "elementos de uma tupla.\n",
        "* Ordenadas: Os elementos têm uma ordem definida e mantêm essa ordem.\n",
        "* Podem conter elementos heterogêneos: Uma tupla pode armazenar diferentes tipos de dados (inteiros, strings, listas, etc.).\n",
        "\n",
        "**Criando uma tupla**\n"
      ],
      "metadata": {
        "id": "fP8e9z-30NiB"
      }
    },
    {
      "cell_type": "code",
      "source": [
        "tupla_vazia = ()  # Tupla vazia\n",
        "tupla_simples = (1, 2, 3)  # Tupla com três elementos\n",
        "tupla_heterogenea = (1, 'Python', 3.14)  # Tupla com tipos de dados diferentes\n"
      ],
      "metadata": {
        "id": "MI8aOA1e0yQ1"
      },
      "execution_count": null,
      "outputs": []
    },
    {
      "cell_type": "markdown",
      "source": [
        "**Acessando elementos em uma tupla**"
      ],
      "metadata": {
        "id": "rK4a3zKq0_ig"
      }
    },
    {
      "cell_type": "code",
      "source": [
        "minha_tupla = (10, 20, 30, 40)\n",
        "print(minha_tupla[0])  # Acesso ao primeiro elemento: Saída: 10\n",
        "print(minha_tupla[2])  # Acesso ao terceiro elemento: Saída: 30"
      ],
      "metadata": {
        "id": "4pOPMPDx1Gq5"
      },
      "execution_count": null,
      "outputs": []
    },
    {
      "cell_type": "markdown",
      "source": [
        "**Tentando modificar uma tupla (o que gera um erro):**"
      ],
      "metadata": {
        "id": "EKOCtbjR1EPl"
      }
    },
    {
      "cell_type": "code",
      "source": [
        "minha_tupla = (1, 2, 3)\n",
        "# minha_tupla[0] = 10  # Isso causará um erro, pois tuplas são imutáveis"
      ],
      "metadata": {
        "id": "JL-6NqNm1LN9"
      },
      "execution_count": null,
      "outputs": []
    },
    {
      "cell_type": "markdown",
      "source": [
        "**Desempacotamento de Tuplas:**\n",
        "\n",
        "Você pode \"desempacotar\" os valores de uma tupla em variáveis individuais."
      ],
      "metadata": {
        "id": "qGNhaEnr1OkB"
      }
    },
    {
      "cell_type": "code",
      "source": [
        "tupla = (\"a\", \"b\", \"c\")\n",
        "x, y, z = tupla\n",
        "print(x)  # Saída: \"a\"\n",
        "print(y)  # Saída: \"b\"\n",
        "print(z)  # Saída: \"c\""
      ],
      "metadata": {
        "id": "qki-96B61bsd"
      },
      "execution_count": null,
      "outputs": []
    },
    {
      "cell_type": "markdown",
      "source": [
        "**Tuplas dentro de listas e vice-versa:**\n",
        "\n",
        "Tuplas podem ser elementos de uma lista, e listas podem ser elementos de uma tupla."
      ],
      "metadata": {
        "id": "rFCiyqb91hq1"
      }
    },
    {
      "cell_type": "code",
      "source": [
        "lista_com_tuplas = [(1, 2), (3, 4), (5, 6)]\n",
        "tupla_com_listas = ([1, 2], [3, 4], [5, 6])"
      ],
      "metadata": {
        "id": "H0bipK4f1j6p"
      },
      "execution_count": null,
      "outputs": []
    },
    {
      "cell_type": "markdown",
      "source": [
        "**Operações com Tuplas:**\n",
        "\n",
        "Como as tuplas são imutáveis, operações como a adição de elementos, remoção ou modificação direta não são permitidas. No entanto, você pode concatenar tuplas ou repetir seus elementos."
      ],
      "metadata": {
        "id": "hBjp7ZLD1n3p"
      }
    },
    {
      "cell_type": "code",
      "source": [
        "tupla1 = (1, 2, 3)\n",
        "tupla2 = (4, 5, 6)\n",
        "\n",
        "# Concatenar duas tuplas\n",
        "tupla_concatenada = tupla1 + tupla2\n",
        "print(tupla_concatenada)  # Saída: (1, 2, 3, 4, 5, 6)\n",
        "\n",
        "# Repetir elementos de uma tupla\n",
        "tupla_repetida = tupla1 * 2\n",
        "print(tupla_repetida)  # Saída: (1, 2, 3, 1, 2, 3)"
      ],
      "metadata": {
        "id": "RhfLcLLr1sNR"
      },
      "execution_count": null,
      "outputs": []
    },
    {
      "cell_type": "markdown",
      "source": [
        "**Verificando a existência de um elemento em uma tupla:**\n",
        "\n",
        "Você pode verificar se um item está presente em uma tupla usando o operador in."
      ],
      "metadata": {
        "id": "9kvJphlr11kj"
      }
    },
    {
      "cell_type": "code",
      "source": [
        "minha_tupla = (10, 20, 30, 40)\n",
        "print(20 in minha_tupla)  # Saída: True\n",
        "print(50 in minha_tupla)  # Saída: False"
      ],
      "metadata": {
        "id": "X4VOTw3913JM"
      },
      "execution_count": null,
      "outputs": []
    },
    {
      "cell_type": "markdown",
      "source": [
        "**Quando usar Tuplas:**\n",
        "* **Segurança**: Quando você deseja garantir que os dados não sejam modificados por\n",
        "acidente.\n",
        "* **Desempenho**: Tuplas podem ser mais rápidas que listas para operações simples, devido à sua imutabilidade.\n",
        "* **Chaves em Dicionários (dict)**: Tuplas podem ser usadas como chaves em dicionários, pois são imutáveis, enquanto listas não podem."
      ],
      "metadata": {
        "id": "DB5kpMzw160Z"
      }
    },
    {
      "cell_type": "markdown",
      "source": [
        "## **EXERCÍCIO**\n",
        "\n",
        "Dada uma lista de tuplas onde cada tupla representa as coordenadas de um ponto no plano cartesiano (x, y), implemente uma compreensão de lista que crie uma nova lista contendo a distância de cada ponto até a origem (0, 0). A distância de um ponto (x, y) até a origem pode ser calculada usando a fórmula:\n",
        "\n",
        "$distancia = \\sqrt{x^2+y^2}$\n",
        "\n",
        "Implemente uma compreensão de lista que crie uma nova lista chamada distancias contendo a distância de cada ponto até a origem.\n",
        "Exiba a lista distancias.\n",
        "**Dica**: Utilize a função math.sqrt() para calcular a raiz quadrada."
      ],
      "metadata": {
        "id": "6hVhu3v6AbvH"
      }
    },
    {
      "cell_type": "markdown",
      "source": [
        "\n",
        "\n",
        "---\n",
        "\n",
        "\n",
        "# ***Sets*** **(conjuntos)**\n",
        "\n",
        "Um set em Python é uma coleção não ordenada e não indexada de elementos únicos. Ou seja, dentro de um set, não há elementos duplicados, e a ordem dos elementos não é garantida. Sets são úteis quando você precisa garantir que uma coleção de elementos não tenha duplicatas ou quando precisa realizar operações matemáticas como união, interseção, diferença, etc.\n",
        "\n",
        "**Características dos Sets:**\n",
        "* Elementos únicos: Um set não permite duplicatas; se você tentar adicionar um item que já está no set, ele será ignorado.\n",
        "* Não ordenado: A ordem dos elementos em um set não é garantida e pode mudar.\n",
        "* Mutável: Você pode adicionar e remover itens de um set, mas os elementos em si devem ser imutáveis (por exemplo, números, strings, tuplas)."
      ],
      "metadata": {
        "id": "SOnOI8DF2Lmc"
      }
    },
    {
      "cell_type": "markdown",
      "source": [
        "**Criando Sets:**\n",
        "Criando um set vazio e adicionando elementos:"
      ],
      "metadata": {
        "id": "zM1iEVbA2jnl"
      }
    },
    {
      "cell_type": "code",
      "source": [
        "meu_set = set()  # Set vazio\n",
        "meu_set.add(1)\n",
        "meu_set.add(2)\n",
        "meu_set.add(3)\n",
        "print(meu_set)  # Saída: {1, 2, 3}"
      ],
      "metadata": {
        "id": "RuJ11gGk2h2B"
      },
      "execution_count": null,
      "outputs": []
    },
    {
      "cell_type": "markdown",
      "source": [
        "**Criando um set com elementos:**"
      ],
      "metadata": {
        "id": "J1F_f4yN2p2l"
      }
    },
    {
      "cell_type": "code",
      "source": [
        "meu_set = {1, 2, 3, 4, 5}\n",
        "print(meu_set)  # Saída: {1, 2, 3, 4, 5}"
      ],
      "metadata": {
        "id": "F7J4nOxl2r6S"
      },
      "execution_count": null,
      "outputs": []
    },
    {
      "cell_type": "markdown",
      "source": [
        "**Tentando adicionar elementos duplicados:**"
      ],
      "metadata": {
        "id": "PFcrBCZj2vpm"
      }
    },
    {
      "cell_type": "code",
      "source": [
        "meu_set = {1, 2, 3, 4, 5}\n",
        "meu_set.add(3)  # 3 já está no set, não será adicionado novamente\n",
        "print(meu_set)  # Saída: {1, 2, 3, 4, 5}"
      ],
      "metadata": {
        "id": "HDID7Hc22xcG"
      },
      "execution_count": null,
      "outputs": []
    },
    {
      "cell_type": "markdown",
      "source": [
        "## Operações Comuns com Sets:  \n",
        "\n",
        "![Operações com set](https://github.com/humbertozanetti/estruturadedados/blob/main/Notebooks/imagens/operacoes-set.webp?raw=1)\n",
        "\n",
        "**União de sets:**\n",
        "\n",
        "A união de dois sets contém todos os elementos de ambos os sets, sem duplicatas."
      ],
      "metadata": {
        "id": "V5cy3fbm2102"
      }
    },
    {
      "cell_type": "code",
      "source": [
        "set1 = {1, 2, 3}\n",
        "set2 = {3, 4, 5}\n",
        "set_uniao = set1.union(set2)\n",
        "print(set_uniao)  # Saída: {1, 2, 3, 4, 5}"
      ],
      "metadata": {
        "id": "4thIYkyH27FJ"
      },
      "execution_count": null,
      "outputs": []
    },
    {
      "cell_type": "markdown",
      "source": [
        "**Interseção de sets:**\n",
        "\n",
        "A interseção de dois sets contém apenas os elementos que estão presentes em ambos."
      ],
      "metadata": {
        "id": "ssk8iwGN3AAd"
      }
    },
    {
      "cell_type": "code",
      "source": [
        "set1 = {1, 2, 3}\n",
        "set2 = {2, 3, 4}\n",
        "set_intersecao = set1.intersection(set2)\n",
        "print(set_intersecao)  # Saída: {2, 3}"
      ],
      "metadata": {
        "id": "giDYmVn43Bal"
      },
      "execution_count": null,
      "outputs": []
    },
    {
      "cell_type": "markdown",
      "source": [
        "**Diferença de sets:**\n",
        "\n",
        "A diferença entre dois sets contém os elementos que estão em um set, mas não no outro."
      ],
      "metadata": {
        "id": "17_o2ieV3FjV"
      }
    },
    {
      "cell_type": "code",
      "source": [
        "set1 = {1, 2, 3}\n",
        "set2 = {2, 3, 4}\n",
        "set_diferenca = set1.difference(set2)\n",
        "print(set_diferenca)  # Saída: {1}"
      ],
      "metadata": {
        "id": "ciirqaCZ3Grf"
      },
      "execution_count": null,
      "outputs": []
    },
    {
      "cell_type": "markdown",
      "source": [
        "**Diferença simétrica de sets:**\n",
        "\n",
        "A diferença simétrica contém os elementos que estão em um set ou no outro, mas não em ambos."
      ],
      "metadata": {
        "id": "7AKb0XsK3Jnd"
      }
    },
    {
      "cell_type": "code",
      "source": [
        "set1 = {1, 2, 3}\n",
        "set2 = {2, 3, 4}\n",
        "set_diff_simetrica = set1.symmetric_difference(set2)\n",
        "print(set_diff_simetrica)  # Saída: {1, 4}"
      ],
      "metadata": {
        "id": "o7jiFSYW3LXJ"
      },
      "execution_count": null,
      "outputs": []
    },
    {
      "cell_type": "markdown",
      "source": [
        "**Verificando a existência de um elemento em um set:**"
      ],
      "metadata": {
        "id": "Y-tZwY3r3NjN"
      }
    },
    {
      "cell_type": "code",
      "source": [
        "meu_set = {1, 2, 3, 4, 5}\n",
        "print(3 in meu_set)  # Saída: True\n",
        "print(6 in meu_set)  # Saída: False"
      ],
      "metadata": {
        "id": "hkhExIeW3R5d"
      },
      "execution_count": null,
      "outputs": []
    },
    {
      "cell_type": "markdown",
      "source": [
        "**Removendo elementos de um set:**\n",
        "\n",
        "Você pode remover um elemento de um set usando remove() (gera erro se o elemento não existir) ou discard() (não gera erro)."
      ],
      "metadata": {
        "id": "siJRIrBr3VY9"
      }
    },
    {
      "cell_type": "code",
      "source": [
        "meu_set = {1, 2, 3, 4, 5}\n",
        "meu_set.remove(3)\n",
        "print(meu_set)  # Saída: {1, 2, 4, 5}"
      ],
      "metadata": {
        "id": "L934tyu63YW9"
      },
      "execution_count": null,
      "outputs": []
    },
    {
      "cell_type": "markdown",
      "source": [
        "**Método pop():**\n",
        "\n",
        "Remove e retorna um elemento arbitrário do set. Como o set não é ordenado, você não pode escolher qual elemento será removido."
      ],
      "metadata": {
        "id": "_ifKguEG3cMN"
      }
    },
    {
      "cell_type": "code",
      "source": [
        "meu_set = {1, 2, 3, 4, 5}\n",
        "elemento = meu_set.pop()\n",
        "print(elemento)  # Saída: (um elemento aleatório)\n",
        "print(meu_set)  # Saída: (set com um elemento a menos)"
      ],
      "metadata": {
        "id": "qNX3kVNh3eeV"
      },
      "execution_count": null,
      "outputs": []
    },
    {
      "cell_type": "markdown",
      "source": [
        "**Esvaziando um set:**\n",
        "\n",
        "Você pode remover todos os elementos de um set usando o método clear()."
      ],
      "metadata": {
        "id": "MRAehB0E3g3i"
      }
    },
    {
      "cell_type": "code",
      "source": [
        "meu_set = {1, 2, 3, 4, 5}\n",
        "meu_set.clear()\n",
        "print(meu_set)  # Saída: set()"
      ],
      "metadata": {
        "id": "RwtAGrSy3iyR"
      },
      "execution_count": null,
      "outputs": []
    },
    {
      "cell_type": "markdown",
      "source": [
        "**Exemplo Prático:**\n",
        "Imagine que você tenha duas listas de estudantes que participaram de diferentes workshops e quer encontrar os alunos que participaram de ambos os workshops, ou apenas um deles."
      ],
      "metadata": {
        "id": "n3XpefUL3mbl"
      }
    },
    {
      "cell_type": "code",
      "source": [
        "workshop1 = {'Ana', 'Bruno', 'Carlos', 'Daniel'}\n",
        "workshop2 = {'Carlos', 'Daniel', 'Eduardo', 'Fernanda'}\n",
        "\n",
        "# Estudantes que participaram de ambos os workshops\n",
        "participaram_ambos = workshop1.intersection(workshop2)\n",
        "print(participaram_ambos)  # Saída: {'Carlos', 'Daniel'}\n",
        "\n",
        "# Estudantes que participaram de apenas um dos workshops\n",
        "participaram_um = workshop1.symmetric_difference(workshop2)\n",
        "print(participaram_um)  # Saída: {'Ana', 'Bruno', 'Eduardo', 'Fernanda'}\n"
      ],
      "metadata": {
        "id": "y0ST67Zd3pm-"
      },
      "execution_count": null,
      "outputs": []
    },
    {
      "cell_type": "markdown",
      "source": [
        "Sets são uma estrutura de dados poderosa e eficiente em Python para armazenar coleções de elementos únicos e realizar operações matemáticas como união, interseção e diferença. Eles são particularmente úteis quando a ordem dos elementos não é importante e a duplicação precisa ser evitada."
      ],
      "metadata": {
        "id": "lTkFrW1l3-G-"
      }
    },
    {
      "cell_type": "markdown",
      "source": [
        "## **EXERCÍCIOS**\n",
        "\n",
        "Dadas duas listas de números inteiros, a e b, implemente um programa em Python que faça o seguinte:\n",
        "\n",
        "* Converta as listas em conjuntos (sets) para remover duplicatas.\n",
        "* Encontre os números que estão presentes em ambas as listas (interseção).\n",
        "* Encontre os números que estão presentes em a, mas não em b (diferença)."
      ],
      "metadata": {
        "id": "SZm5APDtD65k"
      }
    },
    {
      "cell_type": "markdown",
      "source": [
        "# **Aplicação de tuplas e *sets* - Exemplo**"
      ],
      "metadata": {
        "id": "qbTK6Zkajxqh"
      }
    },
    {
      "cell_type": "markdown",
      "source": [
        "Vamos utilizar uma API pública para informações socioeconômicas de países ao redor do mundo (o [Restcountries](https://restcountries.com/)). Esse mecanismo se trata de uma **REST API**, ou **RESTful API**, é uma interface de programação de aplicativos (API) que permite a comunicação entre programas. Ela é baseada na arquitetura *Representational State Transfer* (REST), que define regras e diretrizes para criar APIs web.  \n",
        "Podemos usar **tuplas** para armazenar dados dos países e garantir que não serão alterados, para serem armazenados em um Banco de Dados, por exemplo.\n",
        "E podemos adotar um ***set*** filtrar dados que se repetem, como quantidade de idiomas existentes, quais os continentes representados na base de dados e se há nomes de paíse que se repetem (ou não!).\n"
      ],
      "metadata": {
        "id": "YjCTL-WGkHF9"
      }
    },
    {
      "cell_type": "code",
      "source": [
        "import requests # biliotec em Python para acessar serviços e requisções via web\n",
        "\n",
        "# Requisção à API Restcountries\n",
        "url = \"https://restcountries.com/v3.1/all\"\n",
        "response = requests.get(url)\n",
        "\n",
        "# Verifica se a requisição foi feito com sucesso\n",
        "if response.status_code == 200:\n",
        "    data = response.json()\n",
        "\n",
        "    # Cria lista de tuplas com (nome do país, capital, população, idioma)\n",
        "    paises = [\n",
        "        (pais.get(\"name\", {}).get(\"common\", \"Desconhecido\"),\n",
        "         pais.get(\"capital\", [\"Desconhecida\"])[0] if \"capital\" in pais else \"Desconhecida\",\n",
        "         pais.get(\"population\", 0),\n",
        "         tuple(pais.get(\"languages\", {}).values())  # Armazena idiomas como tupla\n",
        "        )\n",
        "        for pais in data #percorre os países oriundos da requisição\n",
        "    ]\n",
        "\n",
        "    # Cria conjuntos (sets) com dados únicos\n",
        "    idiomas_unicos = {idioma for _, _, _, idiomas in paises for idioma in idiomas}\n",
        "    continentes_unicos = {pais.get(\"region\", \"Desconhecido\") for pais in data}\n",
        "\n",
        "    # Exibe exemplos de tuplas e sets\n",
        "    print(\"Exemplo de país armazenado como tupla:\")\n",
        "    print(paises[:5])  # Exibe os 5 primeiros países\n",
        "\n",
        "    print(\"\\nTotal de idiomas únicos:\", len(idiomas_unicos))\n",
        "    print(\"Idiomas encontrados:\", idiomas_unicos)\n",
        "\n",
        "    print(\"\\nContinentes únicos encontrados:\", continentes_unicos)\n",
        "\n",
        "else:\n",
        "    print(\"Erro ao acessar a API.\")\n"
      ],
      "metadata": {
        "id": "MLY1i6-RmC79"
      },
      "execution_count": null,
      "outputs": []
    }
  ]
}